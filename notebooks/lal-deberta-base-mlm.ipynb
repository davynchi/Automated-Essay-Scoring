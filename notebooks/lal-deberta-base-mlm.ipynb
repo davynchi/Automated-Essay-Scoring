{
 "cells": [
  {
   "cell_type": "markdown",
   "id": "dc33c150",
   "metadata": {
    "papermill": {
     "duration": 0.015968,
     "end_time": "2024-04-25T12:49:24.475395",
     "exception": false,
     "start_time": "2024-04-25T12:49:24.459427",
     "status": "completed"
    },
    "tags": []
   },
   "source": [
    "# Library"
   ]
  },
  {
   "cell_type": "code",
   "execution_count": 1,
   "id": "42c5df00",
   "metadata": {
    "execution": {
     "iopub.execute_input": "2024-04-25T12:49:24.507738Z",
     "iopub.status.busy": "2024-04-25T12:49:24.507403Z",
     "iopub.status.idle": "2024-04-25T12:49:43.673241Z",
     "shell.execute_reply": "2024-04-25T12:49:43.672284Z"
    },
    "papermill": {
     "duration": 19.184697,
     "end_time": "2024-04-25T12:49:43.675675",
     "exception": false,
     "start_time": "2024-04-25T12:49:24.490978",
     "status": "completed"
    },
    "tags": []
   },
   "outputs": [
    {
     "name": "stderr",
     "output_type": "stream",
     "text": [
      "2024-04-25 12:49:33.937065: E external/local_xla/xla/stream_executor/cuda/cuda_dnn.cc:9261] Unable to register cuDNN factory: Attempting to register factory for plugin cuDNN when one has already been registered\n",
      "2024-04-25 12:49:33.937171: E external/local_xla/xla/stream_executor/cuda/cuda_fft.cc:607] Unable to register cuFFT factory: Attempting to register factory for plugin cuFFT when one has already been registered\n",
      "2024-04-25 12:49:34.072023: E external/local_xla/xla/stream_executor/cuda/cuda_blas.cc:1515] Unable to register cuBLAS factory: Attempting to register factory for plugin cuBLAS when one has already been registered\n"
     ]
    }
   ],
   "source": [
    "import os\n",
    "import re\n",
    "import warnings\n",
    "\n",
    "import numpy as np\n",
    "import pandas as pd\n",
    "\n",
    "\n",
    "warnings.filterwarnings(\"ignore\")\n",
    "\n",
    "import tokenizers\n",
    "\n",
    "# from transformers import RobertaTokenizer, RobertaForMaskedLM, LineByLineTextDataset, DataCollatorForLanguageModeling,Trainer, TrainingArguments\n",
    "import torch\n",
    "import transformers\n",
    "from sklearn.model_selection import GroupKFold, StratifiedKFold\n",
    "from tqdm import tqdm\n",
    "from transformers import (\n",
    "    AutoConfig,\n",
    "    AutoModel,\n",
    "    AutoTokenizer,\n",
    "    DataCollatorForLanguageModeling,\n",
    "    DebertaV2ForMaskedLM,\n",
    "    DebertaV2Tokenizer,\n",
    "    LineByLineTextDataset,\n",
    "    Trainer,\n",
    "    TrainingArguments,\n",
    ")"
   ]
  },
  {
   "cell_type": "markdown",
   "id": "5f94fcde",
   "metadata": {
    "papermill": {
     "duration": 0.015332,
     "end_time": "2024-04-25T12:49:43.707245",
     "exception": false,
     "start_time": "2024-04-25T12:49:43.691913",
     "status": "completed"
    },
    "tags": []
   },
   "source": [
    "# Tokenizer"
   ]
  },
  {
   "cell_type": "code",
   "execution_count": 2,
   "id": "e9db246b",
   "metadata": {
    "execution": {
     "iopub.execute_input": "2024-04-25T12:49:43.740803Z",
     "iopub.status.busy": "2024-04-25T12:49:43.740152Z",
     "iopub.status.idle": "2024-04-25T12:49:44.277907Z",
     "shell.execute_reply": "2024-04-25T12:49:44.276910Z"
    },
    "papermill": {
     "duration": 0.556353,
     "end_time": "2024-04-25T12:49:44.280075",
     "exception": false,
     "start_time": "2024-04-25T12:49:43.723722",
     "status": "completed"
    },
    "tags": []
   },
   "outputs": [
    {
     "data": {
      "text/plain": [
       "1"
      ]
     },
     "execution_count": 2,
     "metadata": {},
     "output_type": "execute_result"
    }
   ],
   "source": [
    "# ====================================================\n",
    "# tokenizer\n",
    "# ====================================================\n",
    "# tokenizer = AutoTokenizer.from_pretrained(CFG.path)\n",
    "tokenizer = AutoTokenizer.from_pretrained(\"/kaggle/input/lal-deberta-base-v018/\")\n",
    "tokenizer.add_special_tokens({\"additional_special_tokens\": [\"[BR]\"]})"
   ]
  },
  {
   "cell_type": "markdown",
   "id": "d29807d1",
   "metadata": {
    "papermill": {
     "duration": 0.016211,
     "end_time": "2024-04-25T12:49:44.312244",
     "exception": false,
     "start_time": "2024-04-25T12:49:44.296033",
     "status": "completed"
    },
    "tags": []
   },
   "source": [
    "# Data Loading"
   ]
  },
  {
   "cell_type": "code",
   "execution_count": 3,
   "id": "52d691e3",
   "metadata": {
    "execution": {
     "iopub.execute_input": "2024-04-25T12:49:44.346253Z",
     "iopub.status.busy": "2024-04-25T12:49:44.345641Z",
     "iopub.status.idle": "2024-04-25T12:49:46.864246Z",
     "shell.execute_reply": "2024-04-25T12:49:46.863435Z"
    },
    "papermill": {
     "duration": 2.538106,
     "end_time": "2024-04-25T12:49:46.866542",
     "exception": false,
     "start_time": "2024-04-25T12:49:44.328436",
     "status": "completed"
    },
    "tags": []
   },
   "outputs": [],
   "source": [
    "train = pd.read_csv(\"/kaggle/input/lal-train-data2/train.csv\")\n",
    "train = train[[\"essay_id\", \"full_text\"]]\n",
    "train.columns = [\"id\", \"text\"]"
   ]
  },
  {
   "cell_type": "code",
   "execution_count": 4,
   "id": "913fee07",
   "metadata": {
    "execution": {
     "iopub.execute_input": "2024-04-25T12:49:46.901277Z",
     "iopub.status.busy": "2024-04-25T12:49:46.900933Z",
     "iopub.status.idle": "2024-04-25T12:49:46.918485Z",
     "shell.execute_reply": "2024-04-25T12:49:46.917573Z"
    },
    "papermill": {
     "duration": 0.037233,
     "end_time": "2024-04-25T12:49:46.920519",
     "exception": false,
     "start_time": "2024-04-25T12:49:46.883286",
     "status": "completed"
    },
    "tags": []
   },
   "outputs": [],
   "source": [
    "import codecs\n",
    "from typing import Dict, List, Tuple\n",
    "\n",
    "from text_unidecode import unidecode\n",
    "\n",
    "\n",
    "def replace_encoding_with_utf8(error: UnicodeError) -> Tuple[bytes, int]:\n",
    "    return error.object[error.start : error.end].encode(\"utf-8\"), error.end\n",
    "\n",
    "\n",
    "def replace_decoding_with_cp1252(error: UnicodeError) -> Tuple[str, int]:\n",
    "    return error.object[error.start : error.end].decode(\"cp1252\"), error.end\n",
    "\n",
    "\n",
    "# Register the encoding and decoding error handlers for `utf-8` and `cp1252`.\n",
    "codecs.register_error(\"replace_encoding_with_utf8\", replace_encoding_with_utf8)\n",
    "codecs.register_error(\"replace_decoding_with_cp1252\", replace_decoding_with_cp1252)\n",
    "\n",
    "\n",
    "def resolve_encodings_and_normalize(text: str) -> str:\n",
    "    \"\"\"Resolve the encoding problems and normalize the abnormal characters.\"\"\"\n",
    "    text = (\n",
    "        text.encode(\"raw_unicode_escape\")\n",
    "        .decode(\"utf-8\", errors=\"replace_decoding_with_cp1252\")\n",
    "        .encode(\"cp1252\", errors=\"replace_encoding_with_utf8\")\n",
    "        .decode(\"utf-8\", errors=\"replace_decoding_with_cp1252\")\n",
    "    )\n",
    "    text = unidecode(text)\n",
    "    return text"
   ]
  },
  {
   "cell_type": "code",
   "execution_count": 5,
   "id": "23a7fc88",
   "metadata": {
    "execution": {
     "iopub.execute_input": "2024-04-25T12:49:46.954352Z",
     "iopub.status.busy": "2024-04-25T12:49:46.953769Z",
     "iopub.status.idle": "2024-04-25T12:50:04.367509Z",
     "shell.execute_reply": "2024-04-25T12:50:04.366514Z"
    },
    "papermill": {
     "duration": 17.433761,
     "end_time": "2024-04-25T12:50:04.369953",
     "exception": false,
     "start_time": "2024-04-25T12:49:46.936192",
     "status": "completed"
    },
    "tags": []
   },
   "outputs": [],
   "source": [
    "train[\"text\"] = train[\"text\"].apply(lambda x: resolve_encodings_and_normalize(x))\n",
    "train[\"text\"] = [text.replace(\"\\n\", \"[BR]\") for text in train[\"text\"]]"
   ]
  },
  {
   "cell_type": "markdown",
   "id": "5ff8d6c9",
   "metadata": {
    "papermill": {
     "duration": 0.015352,
     "end_time": "2024-04-25T12:50:04.401479",
     "exception": false,
     "start_time": "2024-04-25T12:50:04.386127",
     "status": "completed"
    },
    "tags": []
   },
   "source": [
    "# CV Split"
   ]
  },
  {
   "cell_type": "code",
   "execution_count": 6,
   "id": "d41126dd",
   "metadata": {
    "execution": {
     "iopub.execute_input": "2024-04-25T12:50:04.433895Z",
     "iopub.status.busy": "2024-04-25T12:50:04.433561Z",
     "iopub.status.idle": "2024-04-25T12:50:04.807244Z",
     "shell.execute_reply": "2024-04-25T12:50:04.806456Z"
    },
    "papermill": {
     "duration": 0.392637,
     "end_time": "2024-04-25T12:50:04.809564",
     "exception": false,
     "start_time": "2024-04-25T12:50:04.416927",
     "status": "completed"
    },
    "tags": []
   },
   "outputs": [],
   "source": [
    "gkf = GroupKFold(n_splits=20)\n",
    "# mskf = MultilabelStratifiedKFold(n_splits=CFG.n_fold, shuffle=True, random_state=42)\n",
    "# labels = [c for c in dfx.columns if c != \"anchor\"]\n",
    "# dfx_labels = dfx[labels]\n",
    "train[\"fold\"] = -1\n",
    "\n",
    "for fold, (trn_, val_) in enumerate(gkf.split(train, train, train[\"id\"])):\n",
    "    train.loc[val_, \"fold\"] = fold\n",
    "\n",
    "train_text = \"\\n\".join(train.loc[train[\"fold\"] != 0, \"text\"].tolist())\n",
    "val_text = \"\\n\".join(train.loc[train[\"fold\"] == 0, \"text\"].tolist())\n",
    "\n",
    "with open(\"train_text.txt\", \"w\") as f:\n",
    "    f.write(train_text)\n",
    "with open(\"val_text.txt\", \"w\") as f:\n",
    "    f.write(val_text)"
   ]
  },
  {
   "cell_type": "markdown",
   "id": "9feb0260",
   "metadata": {
    "papermill": {
     "duration": 0.015365,
     "end_time": "2024-04-25T12:50:04.841417",
     "exception": false,
     "start_time": "2024-04-25T12:50:04.826052",
     "status": "completed"
    },
    "tags": []
   },
   "source": [
    "# Train"
   ]
  },
  {
   "cell_type": "code",
   "execution_count": 7,
   "id": "506dd2d1",
   "metadata": {
    "execution": {
     "iopub.execute_input": "2024-04-25T12:50:04.873965Z",
     "iopub.status.busy": "2024-04-25T12:50:04.873616Z",
     "iopub.status.idle": "2024-04-25T12:50:08.614431Z",
     "shell.execute_reply": "2024-04-25T12:50:08.613483Z"
    },
    "papermill": {
     "duration": 3.759778,
     "end_time": "2024-04-25T12:50:08.616704",
     "exception": false,
     "start_time": "2024-04-25T12:50:04.856926",
     "status": "completed"
    },
    "tags": []
   },
   "outputs": [
    {
     "data": {
      "application/vnd.jupyter.widget-view+json": {
       "model_id": "1123d4f02b92495c82e3d2b344566d24",
       "version_major": 2,
       "version_minor": 0
      },
      "text/plain": [
       "config.json:   0%|          | 0.00/579 [00:00<?, ?B/s]"
      ]
     },
     "metadata": {},
     "output_type": "display_data"
    },
    {
     "data": {
      "application/vnd.jupyter.widget-view+json": {
       "model_id": "cc1e90fc3e7b4eafa6e91a469d172bae",
       "version_major": 2,
       "version_minor": 0
      },
      "text/plain": [
       "pytorch_model.bin:   0%|          | 0.00/371M [00:00<?, ?B/s]"
      ]
     },
     "metadata": {},
     "output_type": "display_data"
    },
    {
     "name": "stderr",
     "output_type": "stream",
     "text": [
      "Some weights of DebertaV2ForMaskedLM were not initialized from the model checkpoint at microsoft/deberta-v3-base and are newly initialized: ['cls.predictions.bias', 'cls.predictions.decoder.bias', 'cls.predictions.transform.LayerNorm.bias', 'cls.predictions.transform.LayerNorm.weight', 'cls.predictions.transform.dense.bias', 'cls.predictions.transform.dense.weight']\n",
      "You should probably TRAIN this model on a down-stream task to be able to use it for predictions and inference.\n"
     ]
    }
   ],
   "source": [
    "model_name = \"microsoft/deberta-v3-base\"\n",
    "model = DebertaV2ForMaskedLM.from_pretrained(model_name)"
   ]
  },
  {
   "cell_type": "code",
   "execution_count": 8,
   "id": "77609700",
   "metadata": {
    "execution": {
     "iopub.execute_input": "2024-04-25T12:50:08.650392Z",
     "iopub.status.busy": "2024-04-25T12:50:08.650057Z",
     "iopub.status.idle": "2024-04-25T12:50:27.822965Z",
     "shell.execute_reply": "2024-04-25T12:50:27.822113Z"
    },
    "papermill": {
     "duration": 19.192524,
     "end_time": "2024-04-25T12:50:27.825574",
     "exception": false,
     "start_time": "2024-04-25T12:50:08.633050",
     "status": "completed"
    },
    "tags": []
   },
   "outputs": [],
   "source": [
    "train_dataset = LineByLineTextDataset(\n",
    "    tokenizer=tokenizer,\n",
    "    file_path=\"train_text.txt\",  # mention train text file here\n",
    "    block_size=512,\n",
    ")"
   ]
  },
  {
   "cell_type": "code",
   "execution_count": 9,
   "id": "e3d3b45d",
   "metadata": {
    "execution": {
     "iopub.execute_input": "2024-04-25T12:50:27.860887Z",
     "iopub.status.busy": "2024-04-25T12:50:27.860104Z",
     "iopub.status.idle": "2024-04-25T12:50:28.757545Z",
     "shell.execute_reply": "2024-04-25T12:50:28.756528Z"
    },
    "papermill": {
     "duration": 0.91737,
     "end_time": "2024-04-25T12:50:28.760056",
     "exception": false,
     "start_time": "2024-04-25T12:50:27.842686",
     "status": "completed"
    },
    "tags": []
   },
   "outputs": [],
   "source": [
    "valid_dataset = LineByLineTextDataset(\n",
    "    tokenizer=tokenizer,\n",
    "    file_path=\"val_text.txt\",  # mention valid text file here\n",
    "    block_size=512,\n",
    ")"
   ]
  },
  {
   "cell_type": "code",
   "execution_count": 10,
   "id": "cb2670f0",
   "metadata": {
    "execution": {
     "iopub.execute_input": "2024-04-25T12:50:28.796356Z",
     "iopub.status.busy": "2024-04-25T12:50:28.795520Z",
     "iopub.status.idle": "2024-04-25T12:50:29.240365Z",
     "shell.execute_reply": "2024-04-25T12:50:29.239407Z"
    },
    "papermill": {
     "duration": 0.464929,
     "end_time": "2024-04-25T12:50:29.242797",
     "exception": false,
     "start_time": "2024-04-25T12:50:28.777868",
     "status": "completed"
    },
    "tags": []
   },
   "outputs": [],
   "source": [
    "data_collator = DataCollatorForLanguageModeling(\n",
    "    tokenizer=tokenizer, mlm=True, mlm_probability=0.15\n",
    ")\n",
    "\n",
    "training_args = TrainingArguments(\n",
    "    output_dir=\"./deberta_v3_base_chk\",  # select model path for checkpoint\n",
    "    overwrite_output_dir=True,\n",
    "    num_train_epochs=8,\n",
    "    per_device_train_batch_size=4,\n",
    "    evaluation_strategy=\"steps\",\n",
    "    save_total_limit=0,\n",
    "    save_strategy=\"steps\",\n",
    "    save_steps=14456,\n",
    "    eval_steps=7228,\n",
    "    metric_for_best_model=\"eval_loss\",\n",
    "    greater_is_better=False,\n",
    "    load_best_model_at_end=True,\n",
    "    prediction_loss_only=True,\n",
    "    report_to=\"none\",\n",
    ")\n",
    "\n",
    "trainer = Trainer(\n",
    "    model=model,\n",
    "    args=training_args,\n",
    "    data_collator=data_collator,\n",
    "    train_dataset=train_dataset,\n",
    "    eval_dataset=valid_dataset,\n",
    ")"
   ]
  },
  {
   "cell_type": "code",
   "execution_count": 11,
   "id": "bfa06345",
   "metadata": {
    "execution": {
     "iopub.execute_input": "2024-04-25T12:50:29.277492Z",
     "iopub.status.busy": "2024-04-25T12:50:29.277121Z",
     "iopub.status.idle": "2024-04-25T21:45:51.470963Z",
     "shell.execute_reply": "2024-04-25T21:45:51.469937Z"
    },
    "papermill": {
     "duration": 32122.215038,
     "end_time": "2024-04-25T21:45:51.474474",
     "exception": false,
     "start_time": "2024-04-25T12:50:29.259436",
     "status": "completed"
    },
    "tags": []
   },
   "outputs": [
    {
     "data": {
      "text/html": [
       "\n",
       "    <div>\n",
       "      \n",
       "      <progress value='57824' max='57824' style='width:300px; height:20px; vertical-align: middle;'></progress>\n",
       "      [57824/57824 8:55:18, Epoch 8/8]\n",
       "    </div>\n",
       "    <table border=\"1\" class=\"dataframe\">\n",
       "  <thead>\n",
       " <tr style=\"text-align: left;\">\n",
       "      <th>Step</th>\n",
       "      <th>Training Loss</th>\n",
       "      <th>Validation Loss</th>\n",
       "    </tr>\n",
       "  </thead>\n",
       "  <tbody>\n",
       "    <tr>\n",
       "      <td>7228</td>\n",
       "      <td>2.060900</td>\n",
       "      <td>1.899971</td>\n",
       "    </tr>\n",
       "    <tr>\n",
       "      <td>14456</td>\n",
       "      <td>1.798100</td>\n",
       "      <td>1.656094</td>\n",
       "    </tr>\n",
       "    <tr>\n",
       "      <td>21684</td>\n",
       "      <td>1.682300</td>\n",
       "      <td>1.575009</td>\n",
       "    </tr>\n",
       "    <tr>\n",
       "      <td>28912</td>\n",
       "      <td>1.569500</td>\n",
       "      <td>1.492748</td>\n",
       "    </tr>\n",
       "    <tr>\n",
       "      <td>36140</td>\n",
       "      <td>1.531200</td>\n",
       "      <td>1.444767</td>\n",
       "    </tr>\n",
       "    <tr>\n",
       "      <td>43368</td>\n",
       "      <td>1.468300</td>\n",
       "      <td>1.420768</td>\n",
       "    </tr>\n",
       "    <tr>\n",
       "      <td>50596</td>\n",
       "      <td>1.434600</td>\n",
       "      <td>1.376557</td>\n",
       "    </tr>\n",
       "    <tr>\n",
       "      <td>57824</td>\n",
       "      <td>1.406400</td>\n",
       "      <td>1.348831</td>\n",
       "    </tr>\n",
       "  </tbody>\n",
       "</table><p>"
      ],
      "text/plain": [
       "<IPython.core.display.HTML object>"
      ]
     },
     "metadata": {},
     "output_type": "display_data"
    },
    {
     "name": "stderr",
     "output_type": "stream",
     "text": [
      "There were missing keys in the checkpoint model loaded: ['cls.predictions.decoder.weight', 'cls.predictions.decoder.bias'].\n"
     ]
    }
   ],
   "source": [
    "trainer.train()\n",
    "trainer.save_model(f\"./deberta_v3_base\")"
   ]
  },
  {
   "cell_type": "code",
   "execution_count": null,
   "id": "6cacfda4",
   "metadata": {
    "papermill": {
     "duration": 0.045285,
     "end_time": "2024-04-25T21:45:51.539596",
     "exception": false,
     "start_time": "2024-04-25T21:45:51.494311",
     "status": "completed"
    },
    "tags": []
   },
   "outputs": [],
   "source": []
  }
 ],
 "metadata": {
  "kaggle": {
   "accelerator": "gpu",
   "dataSources": [
    {
     "databundleVersionId": 8059942,
     "sourceId": 71485,
     "sourceType": "competition"
    },
    {
     "datasetId": 4841639,
     "sourceId": 8178782,
     "sourceType": "datasetVersion"
    },
    {
     "sourceId": 173704175,
     "sourceType": "kernelVersion"
    }
   ],
   "dockerImageVersionId": 30683,
   "isGpuEnabled": true,
   "isInternetEnabled": true,
   "language": "python",
   "sourceType": "notebook"
  },
  "kernelspec": {
   "display_name": "Python 3",
   "language": "python",
   "name": "python3"
  },
  "language_info": {
   "codemirror_mode": {
    "name": "ipython",
    "version": 3
   },
   "file_extension": ".py",
   "mimetype": "text/x-python",
   "name": "python",
   "nbconvert_exporter": "python",
   "pygments_lexer": "ipython3",
   "version": "3.10.13"
  },
  "papermill": {
   "default_parameters": {},
   "duration": 32193.889621,
   "end_time": "2024-04-25T21:45:55.451570",
   "environment_variables": {},
   "exception": null,
   "input_path": "__notebook__.ipynb",
   "output_path": "__notebook__.ipynb",
   "parameters": {},
   "start_time": "2024-04-25T12:49:21.561949",
   "version": "2.3.4"
  },
  "widgets": {
   "application/vnd.jupyter.widget-state+json": {
    "state": {
     "0cc95f51ca71425a88f0b2e4cfe3da38": {
      "model_module": "@jupyter-widgets/controls",
      "model_module_version": "1.5.0",
      "model_name": "ProgressStyleModel",
      "state": {
       "_model_module": "@jupyter-widgets/controls",
       "_model_module_version": "1.5.0",
       "_model_name": "ProgressStyleModel",
       "_view_count": null,
       "_view_module": "@jupyter-widgets/base",
       "_view_module_version": "1.2.0",
       "_view_name": "StyleView",
       "bar_color": null,
       "description_width": ""
      }
     },
     "1123d4f02b92495c82e3d2b344566d24": {
      "model_module": "@jupyter-widgets/controls",
      "model_module_version": "1.5.0",
      "model_name": "HBoxModel",
      "state": {
       "_dom_classes": [],
       "_model_module": "@jupyter-widgets/controls",
       "_model_module_version": "1.5.0",
       "_model_name": "HBoxModel",
       "_view_count": null,
       "_view_module": "@jupyter-widgets/controls",
       "_view_module_version": "1.5.0",
       "_view_name": "HBoxView",
       "box_style": "",
       "children": [
        "IPY_MODEL_57349f5264104441956dd22bfcc5ab36",
        "IPY_MODEL_2230c77c8ef144bd8e6ccc9d70ce7d80",
        "IPY_MODEL_f3e7db53f23b4779b4cb809dcb04a118"
       ],
       "layout": "IPY_MODEL_9d04019246894b6daacc52295c85a1e3"
      }
     },
     "120ee0e32e044291828b72c66f975b2f": {
      "model_module": "@jupyter-widgets/controls",
      "model_module_version": "1.5.0",
      "model_name": "DescriptionStyleModel",
      "state": {
       "_model_module": "@jupyter-widgets/controls",
       "_model_module_version": "1.5.0",
       "_model_name": "DescriptionStyleModel",
       "_view_count": null,
       "_view_module": "@jupyter-widgets/base",
       "_view_module_version": "1.2.0",
       "_view_name": "StyleView",
       "description_width": ""
      }
     },
     "2230c77c8ef144bd8e6ccc9d70ce7d80": {
      "model_module": "@jupyter-widgets/controls",
      "model_module_version": "1.5.0",
      "model_name": "FloatProgressModel",
      "state": {
       "_dom_classes": [],
       "_model_module": "@jupyter-widgets/controls",
       "_model_module_version": "1.5.0",
       "_model_name": "FloatProgressModel",
       "_view_count": null,
       "_view_module": "@jupyter-widgets/controls",
       "_view_module_version": "1.5.0",
       "_view_name": "ProgressView",
       "bar_style": "success",
       "description": "",
       "description_tooltip": null,
       "layout": "IPY_MODEL_57057da9bf214f7b8f86a9e554d4ad85",
       "max": 579.0,
       "min": 0.0,
       "orientation": "horizontal",
       "style": "IPY_MODEL_bfb106e3e9364ddc81265163568070a2",
       "value": 579.0
      }
     },
     "3ee34f6124a64b8da6ab4bac2d005b69": {
      "model_module": "@jupyter-widgets/controls",
      "model_module_version": "1.5.0",
      "model_name": "HTMLModel",
      "state": {
       "_dom_classes": [],
       "_model_module": "@jupyter-widgets/controls",
       "_model_module_version": "1.5.0",
       "_model_name": "HTMLModel",
       "_view_count": null,
       "_view_module": "@jupyter-widgets/controls",
       "_view_module_version": "1.5.0",
       "_view_name": "HTMLView",
       "description": "",
       "description_tooltip": null,
       "layout": "IPY_MODEL_95066d25f16d4cda9af8b63205b37170",
       "placeholder": "​",
       "style": "IPY_MODEL_78595c88f9784bf7a38c1dc68fcd52ee",
       "value": " 371M/371M [00:01&lt;00:00, 297MB/s]"
      }
     },
     "57057da9bf214f7b8f86a9e554d4ad85": {
      "model_module": "@jupyter-widgets/base",
      "model_module_version": "1.2.0",
      "model_name": "LayoutModel",
      "state": {
       "_model_module": "@jupyter-widgets/base",
       "_model_module_version": "1.2.0",
       "_model_name": "LayoutModel",
       "_view_count": null,
       "_view_module": "@jupyter-widgets/base",
       "_view_module_version": "1.2.0",
       "_view_name": "LayoutView",
       "align_content": null,
       "align_items": null,
       "align_self": null,
       "border": null,
       "bottom": null,
       "display": null,
       "flex": null,
       "flex_flow": null,
       "grid_area": null,
       "grid_auto_columns": null,
       "grid_auto_flow": null,
       "grid_auto_rows": null,
       "grid_column": null,
       "grid_gap": null,
       "grid_row": null,
       "grid_template_areas": null,
       "grid_template_columns": null,
       "grid_template_rows": null,
       "height": null,
       "justify_content": null,
       "justify_items": null,
       "left": null,
       "margin": null,
       "max_height": null,
       "max_width": null,
       "min_height": null,
       "min_width": null,
       "object_fit": null,
       "object_position": null,
       "order": null,
       "overflow": null,
       "overflow_x": null,
       "overflow_y": null,
       "padding": null,
       "right": null,
       "top": null,
       "visibility": null,
       "width": null
      }
     },
     "57349f5264104441956dd22bfcc5ab36": {
      "model_module": "@jupyter-widgets/controls",
      "model_module_version": "1.5.0",
      "model_name": "HTMLModel",
      "state": {
       "_dom_classes": [],
       "_model_module": "@jupyter-widgets/controls",
       "_model_module_version": "1.5.0",
       "_model_name": "HTMLModel",
       "_view_count": null,
       "_view_module": "@jupyter-widgets/controls",
       "_view_module_version": "1.5.0",
       "_view_name": "HTMLView",
       "description": "",
       "description_tooltip": null,
       "layout": "IPY_MODEL_c1a642c6b49f4c11ae33d005f8cd94ad",
       "placeholder": "​",
       "style": "IPY_MODEL_120ee0e32e044291828b72c66f975b2f",
       "value": "config.json: 100%"
      }
     },
     "78595c88f9784bf7a38c1dc68fcd52ee": {
      "model_module": "@jupyter-widgets/controls",
      "model_module_version": "1.5.0",
      "model_name": "DescriptionStyleModel",
      "state": {
       "_model_module": "@jupyter-widgets/controls",
       "_model_module_version": "1.5.0",
       "_model_name": "DescriptionStyleModel",
       "_view_count": null,
       "_view_module": "@jupyter-widgets/base",
       "_view_module_version": "1.2.0",
       "_view_name": "StyleView",
       "description_width": ""
      }
     },
     "7862e449576f41138b152a6c67a1c214": {
      "model_module": "@jupyter-widgets/controls",
      "model_module_version": "1.5.0",
      "model_name": "DescriptionStyleModel",
      "state": {
       "_model_module": "@jupyter-widgets/controls",
       "_model_module_version": "1.5.0",
       "_model_name": "DescriptionStyleModel",
       "_view_count": null,
       "_view_module": "@jupyter-widgets/base",
       "_view_module_version": "1.2.0",
       "_view_name": "StyleView",
       "description_width": ""
      }
     },
     "8aee5c1738d1452a9923ec68bcb00780": {
      "model_module": "@jupyter-widgets/controls",
      "model_module_version": "1.5.0",
      "model_name": "FloatProgressModel",
      "state": {
       "_dom_classes": [],
       "_model_module": "@jupyter-widgets/controls",
       "_model_module_version": "1.5.0",
       "_model_name": "FloatProgressModel",
       "_view_count": null,
       "_view_module": "@jupyter-widgets/controls",
       "_view_module_version": "1.5.0",
       "_view_name": "ProgressView",
       "bar_style": "success",
       "description": "",
       "description_tooltip": null,
       "layout": "IPY_MODEL_b58842f8be224ffd85b2cbacfd311cae",
       "max": 371146213.0,
       "min": 0.0,
       "orientation": "horizontal",
       "style": "IPY_MODEL_0cc95f51ca71425a88f0b2e4cfe3da38",
       "value": 371146213.0
      }
     },
     "91fe883594f34094aff0a54605a27c15": {
      "model_module": "@jupyter-widgets/base",
      "model_module_version": "1.2.0",
      "model_name": "LayoutModel",
      "state": {
       "_model_module": "@jupyter-widgets/base",
       "_model_module_version": "1.2.0",
       "_model_name": "LayoutModel",
       "_view_count": null,
       "_view_module": "@jupyter-widgets/base",
       "_view_module_version": "1.2.0",
       "_view_name": "LayoutView",
       "align_content": null,
       "align_items": null,
       "align_self": null,
       "border": null,
       "bottom": null,
       "display": null,
       "flex": null,
       "flex_flow": null,
       "grid_area": null,
       "grid_auto_columns": null,
       "grid_auto_flow": null,
       "grid_auto_rows": null,
       "grid_column": null,
       "grid_gap": null,
       "grid_row": null,
       "grid_template_areas": null,
       "grid_template_columns": null,
       "grid_template_rows": null,
       "height": null,
       "justify_content": null,
       "justify_items": null,
       "left": null,
       "margin": null,
       "max_height": null,
       "max_width": null,
       "min_height": null,
       "min_width": null,
       "object_fit": null,
       "object_position": null,
       "order": null,
       "overflow": null,
       "overflow_x": null,
       "overflow_y": null,
       "padding": null,
       "right": null,
       "top": null,
       "visibility": null,
       "width": null
      }
     },
     "95066d25f16d4cda9af8b63205b37170": {
      "model_module": "@jupyter-widgets/base",
      "model_module_version": "1.2.0",
      "model_name": "LayoutModel",
      "state": {
       "_model_module": "@jupyter-widgets/base",
       "_model_module_version": "1.2.0",
       "_model_name": "LayoutModel",
       "_view_count": null,
       "_view_module": "@jupyter-widgets/base",
       "_view_module_version": "1.2.0",
       "_view_name": "LayoutView",
       "align_content": null,
       "align_items": null,
       "align_self": null,
       "border": null,
       "bottom": null,
       "display": null,
       "flex": null,
       "flex_flow": null,
       "grid_area": null,
       "grid_auto_columns": null,
       "grid_auto_flow": null,
       "grid_auto_rows": null,
       "grid_column": null,
       "grid_gap": null,
       "grid_row": null,
       "grid_template_areas": null,
       "grid_template_columns": null,
       "grid_template_rows": null,
       "height": null,
       "justify_content": null,
       "justify_items": null,
       "left": null,
       "margin": null,
       "max_height": null,
       "max_width": null,
       "min_height": null,
       "min_width": null,
       "object_fit": null,
       "object_position": null,
       "order": null,
       "overflow": null,
       "overflow_x": null,
       "overflow_y": null,
       "padding": null,
       "right": null,
       "top": null,
       "visibility": null,
       "width": null
      }
     },
     "97c9ed09dc1a439f9d342edb179928b3": {
      "model_module": "@jupyter-widgets/base",
      "model_module_version": "1.2.0",
      "model_name": "LayoutModel",
      "state": {
       "_model_module": "@jupyter-widgets/base",
       "_model_module_version": "1.2.0",
       "_model_name": "LayoutModel",
       "_view_count": null,
       "_view_module": "@jupyter-widgets/base",
       "_view_module_version": "1.2.0",
       "_view_name": "LayoutView",
       "align_content": null,
       "align_items": null,
       "align_self": null,
       "border": null,
       "bottom": null,
       "display": null,
       "flex": null,
       "flex_flow": null,
       "grid_area": null,
       "grid_auto_columns": null,
       "grid_auto_flow": null,
       "grid_auto_rows": null,
       "grid_column": null,
       "grid_gap": null,
       "grid_row": null,
       "grid_template_areas": null,
       "grid_template_columns": null,
       "grid_template_rows": null,
       "height": null,
       "justify_content": null,
       "justify_items": null,
       "left": null,
       "margin": null,
       "max_height": null,
       "max_width": null,
       "min_height": null,
       "min_width": null,
       "object_fit": null,
       "object_position": null,
       "order": null,
       "overflow": null,
       "overflow_x": null,
       "overflow_y": null,
       "padding": null,
       "right": null,
       "top": null,
       "visibility": null,
       "width": null
      }
     },
     "9d04019246894b6daacc52295c85a1e3": {
      "model_module": "@jupyter-widgets/base",
      "model_module_version": "1.2.0",
      "model_name": "LayoutModel",
      "state": {
       "_model_module": "@jupyter-widgets/base",
       "_model_module_version": "1.2.0",
       "_model_name": "LayoutModel",
       "_view_count": null,
       "_view_module": "@jupyter-widgets/base",
       "_view_module_version": "1.2.0",
       "_view_name": "LayoutView",
       "align_content": null,
       "align_items": null,
       "align_self": null,
       "border": null,
       "bottom": null,
       "display": null,
       "flex": null,
       "flex_flow": null,
       "grid_area": null,
       "grid_auto_columns": null,
       "grid_auto_flow": null,
       "grid_auto_rows": null,
       "grid_column": null,
       "grid_gap": null,
       "grid_row": null,
       "grid_template_areas": null,
       "grid_template_columns": null,
       "grid_template_rows": null,
       "height": null,
       "justify_content": null,
       "justify_items": null,
       "left": null,
       "margin": null,
       "max_height": null,
       "max_width": null,
       "min_height": null,
       "min_width": null,
       "object_fit": null,
       "object_position": null,
       "order": null,
       "overflow": null,
       "overflow_x": null,
       "overflow_y": null,
       "padding": null,
       "right": null,
       "top": null,
       "visibility": null,
       "width": null
      }
     },
     "a137bd18398a410ca19abb8f0a4a877f": {
      "model_module": "@jupyter-widgets/base",
      "model_module_version": "1.2.0",
      "model_name": "LayoutModel",
      "state": {
       "_model_module": "@jupyter-widgets/base",
       "_model_module_version": "1.2.0",
       "_model_name": "LayoutModel",
       "_view_count": null,
       "_view_module": "@jupyter-widgets/base",
       "_view_module_version": "1.2.0",
       "_view_name": "LayoutView",
       "align_content": null,
       "align_items": null,
       "align_self": null,
       "border": null,
       "bottom": null,
       "display": null,
       "flex": null,
       "flex_flow": null,
       "grid_area": null,
       "grid_auto_columns": null,
       "grid_auto_flow": null,
       "grid_auto_rows": null,
       "grid_column": null,
       "grid_gap": null,
       "grid_row": null,
       "grid_template_areas": null,
       "grid_template_columns": null,
       "grid_template_rows": null,
       "height": null,
       "justify_content": null,
       "justify_items": null,
       "left": null,
       "margin": null,
       "max_height": null,
       "max_width": null,
       "min_height": null,
       "min_width": null,
       "object_fit": null,
       "object_position": null,
       "order": null,
       "overflow": null,
       "overflow_x": null,
       "overflow_y": null,
       "padding": null,
       "right": null,
       "top": null,
       "visibility": null,
       "width": null
      }
     },
     "a9374342d95e4cd39371e41f0be95b83": {
      "model_module": "@jupyter-widgets/controls",
      "model_module_version": "1.5.0",
      "model_name": "HTMLModel",
      "state": {
       "_dom_classes": [],
       "_model_module": "@jupyter-widgets/controls",
       "_model_module_version": "1.5.0",
       "_model_name": "HTMLModel",
       "_view_count": null,
       "_view_module": "@jupyter-widgets/controls",
       "_view_module_version": "1.5.0",
       "_view_name": "HTMLView",
       "description": "",
       "description_tooltip": null,
       "layout": "IPY_MODEL_97c9ed09dc1a439f9d342edb179928b3",
       "placeholder": "​",
       "style": "IPY_MODEL_f5676cbf1f2d42b1bb5bb0f4fc87e99f",
       "value": "pytorch_model.bin: 100%"
      }
     },
     "b58842f8be224ffd85b2cbacfd311cae": {
      "model_module": "@jupyter-widgets/base",
      "model_module_version": "1.2.0",
      "model_name": "LayoutModel",
      "state": {
       "_model_module": "@jupyter-widgets/base",
       "_model_module_version": "1.2.0",
       "_model_name": "LayoutModel",
       "_view_count": null,
       "_view_module": "@jupyter-widgets/base",
       "_view_module_version": "1.2.0",
       "_view_name": "LayoutView",
       "align_content": null,
       "align_items": null,
       "align_self": null,
       "border": null,
       "bottom": null,
       "display": null,
       "flex": null,
       "flex_flow": null,
       "grid_area": null,
       "grid_auto_columns": null,
       "grid_auto_flow": null,
       "grid_auto_rows": null,
       "grid_column": null,
       "grid_gap": null,
       "grid_row": null,
       "grid_template_areas": null,
       "grid_template_columns": null,
       "grid_template_rows": null,
       "height": null,
       "justify_content": null,
       "justify_items": null,
       "left": null,
       "margin": null,
       "max_height": null,
       "max_width": null,
       "min_height": null,
       "min_width": null,
       "object_fit": null,
       "object_position": null,
       "order": null,
       "overflow": null,
       "overflow_x": null,
       "overflow_y": null,
       "padding": null,
       "right": null,
       "top": null,
       "visibility": null,
       "width": null
      }
     },
     "bfb106e3e9364ddc81265163568070a2": {
      "model_module": "@jupyter-widgets/controls",
      "model_module_version": "1.5.0",
      "model_name": "ProgressStyleModel",
      "state": {
       "_model_module": "@jupyter-widgets/controls",
       "_model_module_version": "1.5.0",
       "_model_name": "ProgressStyleModel",
       "_view_count": null,
       "_view_module": "@jupyter-widgets/base",
       "_view_module_version": "1.2.0",
       "_view_name": "StyleView",
       "bar_color": null,
       "description_width": ""
      }
     },
     "c1a642c6b49f4c11ae33d005f8cd94ad": {
      "model_module": "@jupyter-widgets/base",
      "model_module_version": "1.2.0",
      "model_name": "LayoutModel",
      "state": {
       "_model_module": "@jupyter-widgets/base",
       "_model_module_version": "1.2.0",
       "_model_name": "LayoutModel",
       "_view_count": null,
       "_view_module": "@jupyter-widgets/base",
       "_view_module_version": "1.2.0",
       "_view_name": "LayoutView",
       "align_content": null,
       "align_items": null,
       "align_self": null,
       "border": null,
       "bottom": null,
       "display": null,
       "flex": null,
       "flex_flow": null,
       "grid_area": null,
       "grid_auto_columns": null,
       "grid_auto_flow": null,
       "grid_auto_rows": null,
       "grid_column": null,
       "grid_gap": null,
       "grid_row": null,
       "grid_template_areas": null,
       "grid_template_columns": null,
       "grid_template_rows": null,
       "height": null,
       "justify_content": null,
       "justify_items": null,
       "left": null,
       "margin": null,
       "max_height": null,
       "max_width": null,
       "min_height": null,
       "min_width": null,
       "object_fit": null,
       "object_position": null,
       "order": null,
       "overflow": null,
       "overflow_x": null,
       "overflow_y": null,
       "padding": null,
       "right": null,
       "top": null,
       "visibility": null,
       "width": null
      }
     },
     "cc1e90fc3e7b4eafa6e91a469d172bae": {
      "model_module": "@jupyter-widgets/controls",
      "model_module_version": "1.5.0",
      "model_name": "HBoxModel",
      "state": {
       "_dom_classes": [],
       "_model_module": "@jupyter-widgets/controls",
       "_model_module_version": "1.5.0",
       "_model_name": "HBoxModel",
       "_view_count": null,
       "_view_module": "@jupyter-widgets/controls",
       "_view_module_version": "1.5.0",
       "_view_name": "HBoxView",
       "box_style": "",
       "children": [
        "IPY_MODEL_a9374342d95e4cd39371e41f0be95b83",
        "IPY_MODEL_8aee5c1738d1452a9923ec68bcb00780",
        "IPY_MODEL_3ee34f6124a64b8da6ab4bac2d005b69"
       ],
       "layout": "IPY_MODEL_a137bd18398a410ca19abb8f0a4a877f"
      }
     },
     "f3e7db53f23b4779b4cb809dcb04a118": {
      "model_module": "@jupyter-widgets/controls",
      "model_module_version": "1.5.0",
      "model_name": "HTMLModel",
      "state": {
       "_dom_classes": [],
       "_model_module": "@jupyter-widgets/controls",
       "_model_module_version": "1.5.0",
       "_model_name": "HTMLModel",
       "_view_count": null,
       "_view_module": "@jupyter-widgets/controls",
       "_view_module_version": "1.5.0",
       "_view_name": "HTMLView",
       "description": "",
       "description_tooltip": null,
       "layout": "IPY_MODEL_91fe883594f34094aff0a54605a27c15",
       "placeholder": "​",
       "style": "IPY_MODEL_7862e449576f41138b152a6c67a1c214",
       "value": " 579/579 [00:00&lt;00:00, 44.0kB/s]"
      }
     },
     "f5676cbf1f2d42b1bb5bb0f4fc87e99f": {
      "model_module": "@jupyter-widgets/controls",
      "model_module_version": "1.5.0",
      "model_name": "DescriptionStyleModel",
      "state": {
       "_model_module": "@jupyter-widgets/controls",
       "_model_module_version": "1.5.0",
       "_model_name": "DescriptionStyleModel",
       "_view_count": null,
       "_view_module": "@jupyter-widgets/base",
       "_view_module_version": "1.2.0",
       "_view_name": "StyleView",
       "description_width": ""
      }
     }
    },
    "version_major": 2,
    "version_minor": 0
   }
  }
 },
 "nbformat": 4,
 "nbformat_minor": 5
}
